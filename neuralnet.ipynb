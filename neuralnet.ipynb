{
 "cells": [
  {
   "cell_type": "code",
   "execution_count": 288,
   "metadata": {},
   "outputs": [],
   "source": [
    "import numpy as np\n",
    "import pandas as pd\n",
    "import copy as cp"
   ]
  },
  {
   "cell_type": "code",
   "execution_count": 289,
   "metadata": {},
   "outputs": [],
   "source": [
    "def sigmoid(n):\n",
    "    return (1/(1+np.exp(-n)))\n",
    "def softmax(n):\n",
    "    n=n-max(n)\n",
    "    n=np.exp(n)\n",
    "    return n/np.sum(n)"
   ]
  },
  {
   "cell_type": "code",
   "execution_count": 290,
   "metadata": {},
   "outputs": [],
   "source": [
    "file=pd.read_csv(\"log.csv\")\n",
    "x=np.array(file['x'])\n",
    "x.resize(1,len(x))\n",
    "x=np.append(x,np.array([file['y']]),axis=0)\n",
    "yt=np.array(file['yclass'])\n",
    "y=np.array([])\n",
    "if (yt[0]==0):\n",
    "    y=np.append(y,np.array([1,0]),axis=0)\n",
    "else:\n",
    "     y=np.append(y,np.array([0,1]),axis=0)\n",
    "y.resize([2,1])\n",
    "\n",
    "for i in range(1,len(yt)):\n",
    "    if (yt[i]==0):\n",
    "        y=np.append(y,np.array([[1],[0]]),axis=1)\n",
    "    else :\n",
    "        y=np.append(y,np.array([[0],[1]]),axis=1)\n",
    "    "
   ]
  },
  {
   "cell_type": "code",
   "execution_count": 185,
   "metadata": {},
   "outputs": [],
   "source": [
    "file=pd.read_csv(\"4data.csv\")\n",
    "x=np.array(file['x1'])\n",
    "x.resize(1,len(x))\n",
    "x=np.append(x,np.array([file['x2']]),axis=0)\n",
    "yt=np.array(file['yclass'])\n",
    "y=np.array([])\n",
    "if (yt[0]==1):\n",
    "    y=np.append(y,np.array([1,0,0,0]),axis=0)\n",
    "elif(yt[0]==2):\n",
    "     y=np.append(y,np.array([0,1,0,0]),axis=0)\n",
    "elif(yt[0]==3):\n",
    "     y=np.append(y,np.array([0,0,1,0]),axis=0)\n",
    "elif(yt[0]==4):\n",
    "     y=np.append(y,np.array([0,0,0,1]),axis=0)\n",
    "\n",
    "y.resize([4,1])\n",
    "\n",
    "for i in range(1,len(yt)):\n",
    "    if (yt[i]==1):\n",
    "        y=np.append(y,np.array([[1],[0],[0],[0]]),axis=1)\n",
    "    elif (yt[i]==2):\n",
    "        y=np.append(y,np.array([[0],[1],[0],[0]]),axis=1)\n",
    "    elif(yt[i]==3):\n",
    "        y=np.append(y,np.array([[0],[0],[1],[0]]),axis=1)\n",
    "    elif(yt[i]==4):\n",
    "        y=np.append(y,np.array([[0],[0],[0],[1]]),axis=1)\n",
    "    "
   ]
  },
  {
   "cell_type": "code",
   "execution_count": 291,
   "metadata": {},
   "outputs": [],
   "source": [
    "class hidden_layer():\n",
    "    def __init__(self,x,N):\n",
    "        temp=np.ones([x.shape[1]])\n",
    "        temp.resize(1,x.shape[1])\n",
    "        temp=np.append(temp,x,axis=0)\n",
    "        self.x=temp\n",
    "        self.N=N\n",
    "        self.w=np.ones([self.x.shape[0],self.N])\n",
    "        self.z=np.dot(np.transpose(self.w),self.x)\n",
    "        self.a=sigmoid(self.z)\n",
    "    def out(self):\n",
    "        return self.a\n",
    "    def back(self,delta):\n",
    "        self.delta=delta*self.a*(1-self.a)\n",
    "        self.dw=np.dot(self.x,np.transpose(self.delta))\n",
    "        self.w=self.w-0.001*(self.dw)\n",
    "        self.deltaw=np.dot(self.w[1:self.x.shape[0],:],self.delta)\n",
    "        return self.deltaw\n",
    "    def forward(self):\n",
    "        self.z=np.dot(np.transpose(self.w),self.x)\n",
    "        self.a=sigmoid(self.z)\n",
    "    def forward_(self,x):\n",
    "        temp=np.ones([x.shape[1]])\n",
    "        temp.resize(1,x.shape[1])\n",
    "        x=np.append(temp,x,axis=0)\n",
    "        self.x=x\n",
    "        self.z=np.dot(np.transpose(self.w),self.x)\n",
    "        self.a=sigmoid(self.z)\n",
    "        return self.a"
   ]
  },
  {
   "cell_type": "code",
   "execution_count": 292,
   "metadata": {},
   "outputs": [],
   "source": [
    "class final_layer():\n",
    "    def __init__(self,x,N):\n",
    "        temp=np.ones([x.shape[1]])\n",
    "        temp.resize(1,x.shape[1])\n",
    "        temp=np.append(temp,x,axis=0)\n",
    "        self.x=temp\n",
    "        self.N=N\n",
    "        self.w=np.ones([self.x.shape[0],self.N])\n",
    "        self.z=np.dot(np.transpose(self.w),self.x)\n",
    "        self.a=cp.deepcopy(self.z)\n",
    "        self.a=sigmoid(self.z)\n",
    "    def back(self,y):\n",
    "        self.delta=(self.a-y)*self.a*(1-self.a)\n",
    "        self.deltaw=np.dot(self.w[1:self.x.shape[0],:],self.delta)\n",
    "        self.dw=np.dot(self.delta,np.transpose(self.x))\n",
    "        self.w=self.w-0.001*np.transpose(self.dw)\n",
    "        return self.deltaw\n",
    "    def forward_(self,x):\n",
    "        temp=np.ones([x.shape[1]])\n",
    "        temp.resize(1,x.shape[1])\n",
    "        temp=np.append(temp,x,axis=0)\n",
    "        self.x=temp\n",
    "        self.z=np.dot(np.transpose(self.w),self.x)\n",
    "        self.a=sigmoid(self.z)\n",
    "    def out(self):\n",
    "        return self.a"
   ]
  },
  {
   "cell_type": "code",
   "execution_count": 293,
   "metadata": {},
   "outputs": [],
   "source": [
    "class neural_network():\n",
    "    def __init__(self,x,y):\n",
    "        self.num_hid_layer=int(input(\"Enter Number of hidden Layers\"))\n",
    "        self.neurons_per_layer=list();\n",
    "        for i in range (self.num_hid_layer):\n",
    "            print(\"Enter number of neurons in layer \",+i+1)\n",
    "            self.neurons_per_layer.append(int(input()))\n",
    "        self.layer_list=[]\n",
    "        self.x=x\n",
    "        self.y=y\n",
    "        self.l_rate=float(input(\"Enter learning rate\"))\n",
    "        self.epoch=int(input(\"Enter number of epochs\"))\n",
    "        temp=x\n",
    "        for i in range (len(self.neurons_per_layer)):\n",
    "            self.layer_list.append(hidden_layer(temp,self.neurons_per_layer[i]))\n",
    "            temp=self.layer_list[i].out()\n",
    "        self.layer_list.append(final_layer(temp,y.shape[0]))\n",
    "    def start(self):\n",
    "        for i in range (self.epoch):\n",
    "            for j in reversed(range (len(self.layer_list))):\n",
    "                if (j==len(self.layer_list)-1):\n",
    "                    temp=self.layer_list[j].back(self.y)\n",
    "                else:\n",
    "                    temp=self.layer_list[j].back(temp)\n",
    "            for k in range (len(self.layer_list)):\n",
    "                if (k==0):\n",
    "                    self.layer_list[k].forward()\n",
    "                    temp=self.layer_list[k].out()\n",
    "                else:\n",
    "                    self.layer_list[k].forward_(temp)\n",
    "                    temp=self.layer_list[k].out()\n",
    "        print(temp.round())"
   ]
  },
  {
   "cell_type": "code",
   "execution_count": 294,
   "metadata": {},
   "outputs": [
    {
     "name": "stdout",
     "output_type": "stream",
     "text": [
      "Enter Number of hidden Layers2\n",
      "Enter number of neurons in layer  1\n",
      "3\n",
      "Enter number of neurons in layer  2\n",
      "2\n",
      "Enter learning rate0.1\n",
      "Enter number of epochs10000\n"
     ]
    }
   ],
   "source": [
    "NN=neural_network(x,y)"
   ]
  },
  {
   "cell_type": "code",
   "execution_count": 295,
   "metadata": {},
   "outputs": [
    {
     "name": "stdout",
     "output_type": "stream",
     "text": [
      "[[1. 1. 1. ... 0. 0. 0.]\n",
      " [0. 0. 0. ... 1. 1. 1.]]\n"
     ]
    }
   ],
   "source": [
    "NN.start()"
   ]
  },
  {
   "cell_type": "code",
   "execution_count": null,
   "metadata": {},
   "outputs": [],
   "source": []
  },
  {
   "cell_type": "code",
   "execution_count": null,
   "metadata": {
    "scrolled": true
   },
   "outputs": [],
   "source": []
  },
  {
   "cell_type": "code",
   "execution_count": null,
   "metadata": {},
   "outputs": [],
   "source": []
  },
  {
   "cell_type": "code",
   "execution_count": 115,
   "metadata": {},
   "outputs": [],
   "source": []
  },
  {
   "cell_type": "code",
   "execution_count": null,
   "metadata": {},
   "outputs": [],
   "source": []
  },
  {
   "cell_type": "code",
   "execution_count": null,
   "metadata": {},
   "outputs": [],
   "source": []
  },
  {
   "cell_type": "code",
   "execution_count": null,
   "metadata": {},
   "outputs": [],
   "source": []
  },
  {
   "cell_type": "code",
   "execution_count": null,
   "metadata": {
    "scrolled": true
   },
   "outputs": [],
   "source": []
  },
  {
   "cell_type": "code",
   "execution_count": null,
   "metadata": {},
   "outputs": [],
   "source": []
  },
  {
   "cell_type": "code",
   "execution_count": null,
   "metadata": {},
   "outputs": [],
   "source": []
  },
  {
   "cell_type": "code",
   "execution_count": null,
   "metadata": {
    "scrolled": true
   },
   "outputs": [],
   "source": []
  },
  {
   "cell_type": "code",
   "execution_count": null,
   "metadata": {},
   "outputs": [],
   "source": []
  },
  {
   "cell_type": "code",
   "execution_count": null,
   "metadata": {},
   "outputs": [],
   "source": []
  },
  {
   "cell_type": "code",
   "execution_count": 203,
   "metadata": {},
   "outputs": [
    {
     "name": "stdout",
     "output_type": "stream",
     "text": [
      "158.3800236380373\n"
     ]
    }
   ],
   "source": [
    "error=l3.a-y\n",
    "err=np.sum(np.square(error))\n",
    "print(err)"
   ]
  },
  {
   "cell_type": "code",
   "execution_count": 162,
   "metadata": {},
   "outputs": [
    {
     "name": "stdout",
     "output_type": "stream",
     "text": [
      "[1. 1. 0. 0. 1. 1. 1. 1. 1. 1. 0. 1. 1. 1. 1. 1. 0. 1. 1. 0. 1. 1. 0. 1.\n",
      " 1. 1. 1. 0. 0. 1. 1. 1. 1. 1. 1. 1. 1. 0. 1. 1. 1. 1. 1. 1. 1. 1. 1. 0.\n",
      " 1. 1. 1. 1. 1. 0. 1. 1. 1. 1. 1. 1. 1. 1. 1. 1. 1. 1. 1. 1. 1. 1. 1. 1.\n",
      " 1. 1. 1. 1. 1. 0. 1. 0. 0. 1. 0. 1. 1. 1. 0. 1. 1. 1. 1. 1. 1. 1. 1. 1.\n",
      " 1. 1. 1. 1. 1. 1. 1. 1. 1. 1. 1. 1. 1. 1. 1. 1. 1. 1. 1. 1. 1. 1. 1. 1.\n",
      " 1. 1. 1. 1. 1. 1. 1. 1. 1. 1. 1. 1. 1. 1. 1. 1. 1. 1. 1. 1. 1. 1. 1. 1.\n",
      " 1. 1. 1. 1. 1. 1. 1. 1. 1. 1. 1. 1. 1. 1. 1. 1. 1. 1. 1. 1. 1. 1. 1. 1.\n",
      " 1. 1. 1. 1. 1. 1. 1. 1. 1. 1. 1. 1. 1. 1. 1. 1. 1. 1. 1. 1. 1. 1. 1. 1.\n",
      " 1. 1. 1. 1. 1. 1. 1. 1. 1. 1. 1. 1. 1. 1. 1. 1. 1. 1. 1. 1. 1. 1. 1. 1.\n",
      " 1. 1. 1. 1. 1. 1. 1. 1. 1. 1. 1. 0. 1. 1. 1. 1. 1. 1. 1. 1. 1. 1. 1. 1.\n",
      " 1. 1. 1. 1. 1. 1. 1. 1. 1. 1. 1. 1. 1. 1. 1. 1. 1. 0. 1. 1. 1. 1. 1. 1.\n",
      " 1. 1. 1. 1. 1. 1. 1. 1. 1. 1. 1. 1. 0. 1. 1. 1. 1. 1. 1. 1. 1. 1. 1. 1.\n",
      " 1. 1. 1. 1. 1. 1. 1. 1. 1. 1. 1. 1. 1. 1. 1. 1. 1. 1. 1. 1. 1. 1. 1. 1.\n",
      " 1. 1. 1. 1. 1. 1. 1. 1. 1. 0. 1. 1. 1. 1. 0. 0. 1. 1. 0. 1. 1. 1. 0. 1.\n",
      " 0. 1. 1. 0. 0. 1. 1. 1. 1. 1. 1. 1. 1. 1. 1. 1. 1. 1. 1. 0. 1. 1. 1. 1.\n",
      " 0. 0. 0. 0. 0. 0. 0. 0. 0. 0. 0. 0. 0. 0. 0. 0. 0. 0. 0. 0. 0. 0. 0. 0.\n",
      " 0. 0. 0. 0. 0. 0. 0. 0. 0. 0. 0. 0. 0. 0. 0. 0. 0. 0. 0. 0. 0. 0. 0. 0.\n",
      " 0. 0. 0. 0. 0. 0. 0. 0. 0. 0. 0. 0. 0. 0. 0. 0. 0. 0. 0. 0. 0. 0. 0. 0.\n",
      " 0. 0. 0. 0. 0. 0. 0. 0. 0. 0. 0. 0. 0. 0. 0. 0. 0. 0. 0. 0. 0. 0. 0. 0.\n",
      " 0. 0. 0. 0. 0. 0. 0. 0. 0. 0. 0. 0. 0. 0. 0. 0. 0. 0. 0. 0. 0. 0. 0. 0.\n",
      " 0. 0. 0. 0. 0. 0. 0. 0. 0. 0. 0. 0. 0. 0. 0. 0. 0. 0. 0. 0. 0. 0. 0. 0.\n",
      " 0. 0. 0. 0. 0. 0. 0. 0. 0. 0. 0. 0. 0. 0. 0. 0. 0. 0. 0. 0. 0. 0. 0. 0.\n",
      " 0. 0. 0. 0. 0. 0. 0. 0. 1. 0. 0. 0. 0. 0. 1. 0. 0. 1. 0. 0. 0. 0. 0. 0.\n",
      " 0. 0. 0. 0. 0. 0. 0. 0. 0. 0. 0. 0. 0. 0. 0. 0. 0. 0. 0. 0. 0. 1. 1. 0.\n",
      " 0. 0. 0. 0. 0. 0. 0. 0. 0. 0. 0. 0. 0. 0. 0. 0. 0. 0. 0. 0. 0. 0. 0. 0.\n",
      " 0. 0. 0. 0. 0. 0. 0. 0. 0. 0. 0. 0. 0. 0. 0. 0. 0. 0. 0. 0. 0. 0. 0. 0.\n",
      " 0. 0. 0. 0. 0. 0. 0. 0. 1. 0. 0. 1. 0. 0. 0. 0. 0. 0. 0. 0. 0. 0. 0. 0.\n",
      " 0. 0. 0. 0. 0. 0. 0. 0. 0. 0. 0. 0. 0. 0. 0. 0. 0. 0. 0. 0. 0. 0. 0. 0.\n",
      " 0. 0. 0. 0. 0. 0. 0. 0. 0. 0. 0. 0. 0. 0. 0. 0. 0. 0. 0. 0. 0. 0. 0. 0.\n",
      " 0. 0. 0. 0. 0. 0. 0. 0. 0. 0. 0. 0. 0. 0. 0. 0. 0. 0. 0. 0. 0. 0. 0. 0.]\n"
     ]
    }
   ],
   "source": [
    "a=l2.a.round()[0,:]\n",
    "color1=list([])\n",
    "print(a)\n",
    "for i in a:\n",
    "    if (i==0):\n",
    "        color1.append('r')\n",
    "    else:\n",
    "        color1.append('b')"
   ]
  },
  {
   "cell_type": "code",
   "execution_count": 163,
   "metadata": {},
   "outputs": [
    {
     "data": {
      "text/plain": [
       "<matplotlib.collections.PathCollection at 0x2648de3a0f0>"
      ]
     },
     "execution_count": 163,
     "metadata": {},
     "output_type": "execute_result"
    },
    {
     "data": {
      "image/png": "[encoded data removed]",
      "text/plain": [
       "<Figure size 432x288 with 1 Axes>"
      ]
     },
     "metadata": {
      "needs_background": "light"
     },
     "output_type": "display_data"
    }
   ],
   "source": [
    "import matplotlib.pyplot as plt\n",
    "plt.scatter(x[0,:], x[1,:], marker='*', c=color1)"
   ]
  },
  {
   "cell_type": "code",
   "execution_count": null,
   "metadata": {},
   "outputs": [],
   "source": []
  },
  {
   "cell_type": "code",
   "execution_count": null,
   "metadata": {},
   "outputs": [],
   "source": []
  },
  {
   "cell_type": "code",
   "execution_count": null,
   "metadata": {},
   "outputs": [],
   "source": []
  },
  {
   "cell_type": "code",
   "execution_count": null,
   "metadata": {},
   "outputs": [],
   "source": [
    "Layers=list()\n",
    "ds=np.array([2,3,4])\n",
    "temp=x\n",
    "for i in range (3):\n",
    "    Layers.append(hidden_layer(temp,ds[i]))\n",
    "    temp=Layers[i].out() "
   ]
  },
  {
   "cell_type": "code",
   "execution_count": null,
   "metadata": {},
   "outputs": [],
   "source": []
  },
  {
   "cell_type": "code",
   "execution_count": null,
   "metadata": {},
   "outputs": [],
   "source": []
  }
 ],
 "metadata": {
  "kernelspec": {
   "display_name": "Python 3",
   "language": "python",
   "name": "python3"
  },
  "language_info": {
   "codemirror_mode": {
    "name": "ipython",
    "version": 3
   },
   "file_extension": ".py",
   "mimetype": "text/x-python",
   "name": "python",
   "nbconvert_exporter": "python",
   "pygments_lexer": "ipython3",
   "version": "3.7.3"
  }
 },
 "nbformat": 4,
 "nbformat_minor": 2
}
