{
 "cells": [
  {
   "cell_type": "code",
   "execution_count": null,
   "metadata": {},
   "outputs": [],
   "source": [
    "import numpy as np\n",
    "import pandas as pd\n",
    "import copy as cp\n",
    "\n",
    "import tensorflow.compat.v1 as tf"
   ]
  },
  {
   "cell_type": "code",
   "execution_count": null,
   "metadata": {},
   "outputs": [],
   "source": []
  },
  {
   "cell_type": "code",
   "execution_count": null,
   "metadata": {},
   "outputs": [],
   "source": [
    "def sigmoid(n):\n",
    "    return (1/(1+np.exp(-n)))\n",
    "def softmax(n):\n",
    "    n=n-max(n)\n",
    "    n=np.exp(n)\n",
    "    return n/np.sum(n)"
   ]
  },
  {
   "cell_type": "code",
   "execution_count": null,
   "metadata": {},
   "outputs": [],
   "source": []
  },
  {
   "cell_type": "code",
   "execution_count": null,
   "metadata": {},
   "outputs": [],
   "source": []
  },
  {
   "cell_type": "code",
   "execution_count": null,
   "metadata": {},
   "outputs": [],
   "source": []
  },
  {
   "cell_type": "code",
   "execution_count": null,
   "metadata": {},
   "outputs": [],
   "source": []
  },
  {
   "cell_type": "code",
   "execution_count": null,
   "metadata": {},
   "outputs": [],
   "source": []
  },
  {
   "cell_type": "code",
   "execution_count": null,
   "metadata": {},
   "outputs": [],
   "source": [
    "class hidden_layer():\n",
    "    def __init__(self,x,N):\n",
    "        temp=np.ones([x.shape[1]])\n",
    "        temp.resize(1,x.shape[1])\n",
    "        temp=np.append(temp,x,axis=0)\n",
    "        self.x=temp\n",
    "        self.N=N\n",
    "        self.w=np.ones([self.x.shape[0],self.N])\n",
    "        self.z=np.dot(np.transpose(self.w),self.x)\n",
    "        self.a=sigmoid(self.z)\n",
    "    def out(self):\n",
    "        return self.a\n",
    "    def back(self,delta):\n",
    "        self.delta=delta*self.a*(1-self.a)\n",
    "        self.dw=np.dot(self.x,np.transpose(self.delta))\n",
    "        self.w=self.w-0.001*(self.dw)\n",
    "        self.deltaw=np.dot(self.w[1:self.x.shape[0],:],self.delta)\n",
    "        return self.deltaw\n",
    "    def forward(self):\n",
    "        self.z=np.dot(np.transpose(self.w),self.x)\n",
    "        self.a=sigmoid(self.z)\n",
    "    def forward_(self,x):\n",
    "        temp=np.ones([x.shape[1]])\n",
    "        temp.resize(1,x.shape[1])\n",
    "        x=np.append(temp,x,axis=0)\n",
    "        self.x=x\n",
    "        self.z=np.dot(np.transpose(self.w),self.x)\n",
    "        self.a=sigmoid(self.z)\n",
    "        return self.a"
   ]
  },
  {
   "cell_type": "code",
   "execution_count": null,
   "metadata": {},
   "outputs": [],
   "source": [
    "class final_layer():\n",
    "    def __init__(self,x,N):\n",
    "        temp=np.ones([x.shape[1]])\n",
    "        temp.resize(1,x.shape[1])\n",
    "        temp=np.append(temp,x,axis=0)\n",
    "        self.x=temp\n",
    "        self.N=N\n",
    "        self.w=np.ones([self.x.shape[0],self.N])\n",
    "        self.z=np.dot(np.transpose(self.w),self.x)\n",
    "        self.a=cp.deepcopy(self.z)\n",
    "        self.a=sigmoid(self.z)\n",
    "    def back(self,y):\n",
    "        self.delta=(self.a-y)*self.a*(1-self.a)\n",
    "        self.deltaw=np.dot(self.w[1:self.x.shape[0],:],self.delta)\n",
    "        self.dw=np.dot(self.delta,np.transpose(self.x))\n",
    "        self.w=self.w-0.001*np.transpose(self.dw)\n",
    "        return self.deltaw\n",
    "    def forward_(self,x):\n",
    "        temp=np.ones([x.shape[1]])\n",
    "        temp.resize(1,x.shape[1])\n",
    "        temp=np.append(temp,x,axis=0)\n",
    "        self.x=temp\n",
    "        self.z=np.dot(np.transpose(self.w),self.x)\n",
    "        self.a=sigmoid(self.z)\n",
    "    def out(self):\n",
    "        return self.a"
   ]
  },
  {
   "cell_type": "code",
   "execution_count": null,
   "metadata": {},
   "outputs": [],
   "source": [
    "class neural_network():\n",
    "    def __init__(self,x,y):\n",
    "        self.num_hid_layer=int(input(\"Enter Number of hidden Layers\"))\n",
    "        self.neurons_per_layer=list();\n",
    "        for i in range (self.num_hid_layer):\n",
    "            print(\"Enter number of neurons in layer \",+i+1)\n",
    "            self.neurons_per_layer.append(int(input()))\n",
    "        self.layer_list=[]\n",
    "        self.x=x\n",
    "        self.y=y\n",
    "        self.l_rate=float(input(\"Enter learning rate\"))\n",
    "        self.epoch=int(input(\"Enter number of epochs\"))\n",
    "        temp=x\n",
    "        for i in range (len(self.neurons_per_layer)):\n",
    "            self.layer_list.append(hidden_layer(temp,self.neurons_per_layer[i]))\n",
    "            temp=self.layer_list[i].out()\n",
    "        self.layer_list.append(final_layer(temp,y.shape[0]))\n",
    "    def train(self):\n",
    "        for i in range (self.epoch):\n",
    "            for j in reversed(range (len(self.layer_list))):\n",
    "                if (j==len(self.layer_list)-1):\n",
    "                    temp=self.layer_list[j].back(self.y)\n",
    "                else:\n",
    "                    temp=self.layer_list[j].back(temp)\n",
    "            for k in range (len(self.layer_list)):\n",
    "                if (k==0):\n",
    "                    self.layer_list[k].forward()\n",
    "                    temp=self.layer_list[k].out()\n",
    "                else:\n",
    "                    self.layer_list[k].forward_(temp)\n",
    "                    temp=self.layer_list[k].out()\n",
    "        return temp.round()\n",
    "    def test(self,x):\n",
    "         for k in range (len(self.layer_list)):\n",
    "                if (k==0):\n",
    "                    self.layer_list[k].forward()\n",
    "                    temp=self.layer_list[k].out()\n",
    "                else:\n",
    "                    self.layer_list[k].forward_(temp)\n",
    "                    temp=self.layer_list[k].out()\n",
    "        return temp.round()"
   ]
  },
  {
   "cell_type": "code",
   "execution_count": null,
   "metadata": {},
   "outputs": [],
   "source": [
    "#Put x as the training input tensor, where each column of x is a traing example.\n",
    "# y is the corresponing one hot encoded otputs for the training set."
   ]
  },
  {
   "cell_type": "code",
   "execution_count": null,
   "metadata": {},
   "outputs": [],
   "source": [
    "NN=neural_network(x,y)"
   ]
  },
  {
   "cell_type": "code",
   "execution_count": null,
   "metadata": {},
   "outputs": [],
   "source": [
    "##Insert the test input tensor in NN.test()"
   ]
  },
  {
   "cell_type": "code",
   "execution_count": null,
   "metadata": {},
   "outputs": [],
   "source": [
    "NN.train()\n",
    "res=NN.test()"
   ]
  },
  {
   "cell_type": "markdown",
   "metadata": {},
   "source": [
    "Res contains the results"
   ]
  },
  {
   "cell_type": "code",
   "execution_count": null,
   "metadata": {},
   "outputs": [],
   "source": [
    "from sklearn.metrics import multilabel_confusion_matrix"
   ]
  },
  {
   "cell_type": "code",
   "execution_count": null,
   "metadata": {
    "scrolled": true
   },
   "outputs": [],
   "source": []
  },
  {
   "cell_type": "code",
   "execution_count": null,
   "metadata": {},
   "outputs": [],
   "source": []
  },
  {
   "cell_type": "code",
   "execution_count": null,
   "metadata": {},
   "outputs": [],
   "source": []
  },
  {
   "cell_type": "code",
   "execution_count": null,
   "metadata": {},
   "outputs": [],
   "source": []
  },
  {
   "cell_type": "code",
   "execution_count": null,
   "metadata": {},
   "outputs": [],
   "source": []
  },
  {
   "cell_type": "code",
   "execution_count": null,
   "metadata": {},
   "outputs": [],
   "source": []
  },
  {
   "cell_type": "code",
   "execution_count": null,
   "metadata": {
    "scrolled": true
   },
   "outputs": [],
   "source": []
  },
  {
   "cell_type": "code",
   "execution_count": null,
   "metadata": {},
   "outputs": [],
   "source": []
  },
  {
   "cell_type": "code",
   "execution_count": null,
   "metadata": {},
   "outputs": [],
   "source": []
  },
  {
   "cell_type": "code",
   "execution_count": null,
   "metadata": {
    "scrolled": true
   },
   "outputs": [],
   "source": []
  },
  {
   "cell_type": "code",
   "execution_count": null,
   "metadata": {},
   "outputs": [],
   "source": []
  },
  {
   "cell_type": "code",
   "execution_count": null,
   "metadata": {},
   "outputs": [],
   "source": []
  },
  {
   "cell_type": "code",
   "execution_count": null,
   "metadata": {},
   "outputs": [],
   "source": [
    "error=l3.a-y\n",
    "err=np.sum(np.square(error))\n",
    "print(err)"
   ]
  },
  {
   "cell_type": "code",
   "execution_count": null,
   "metadata": {},
   "outputs": [],
   "source": [
    "a=l2.a.round()[0,:]\n",
    "color1=list([])\n",
    "print(a)\n",
    "for i in a:\n",
    "    if (i==0):\n",
    "        color1.append('r')\n",
    "    else:\n",
    "        color1.append('b')"
   ]
  },
  {
   "cell_type": "code",
   "execution_count": null,
   "metadata": {},
   "outputs": [],
   "source": [
    "import matplotlib.pyplot as plt\n",
    "plt.scatter(x[0,:], x[1,:], marker='*', c=color1)"
   ]
  },
  {
   "cell_type": "code",
   "execution_count": null,
   "metadata": {},
   "outputs": [],
   "source": []
  },
  {
   "cell_type": "code",
   "execution_count": null,
   "metadata": {},
   "outputs": [],
   "source": []
  },
  {
   "cell_type": "code",
   "execution_count": null,
   "metadata": {},
   "outputs": [],
   "source": []
  },
  {
   "cell_type": "code",
   "execution_count": null,
   "metadata": {},
   "outputs": [],
   "source": [
    "Layers=list()\n",
    "ds=np.array([2,3,4])\n",
    "temp=x\n",
    "for i in range (3):\n",
    "    Layers.append(hidden_layer(temp,ds[i]))\n",
    "    temp=Layers[i].out() "
   ]
  },
  {
   "cell_type": "code",
   "execution_count": null,
   "metadata": {},
   "outputs": [],
   "source": []
  },
  {
   "cell_type": "code",
   "execution_count": null,
   "metadata": {},
   "outputs": [],
   "source": []
  }
 ],
 "metadata": {
  "kernelspec": {
   "display_name": "Python 3",
   "language": "python",
   "name": "python3"
  },
  "language_info": {
   "codemirror_mode": {
    "name": "ipython",
    "version": 3
   },
   "file_extension": ".py",
   "mimetype": "text/x-python",
   "name": "python",
   "nbconvert_exporter": "python",
   "pygments_lexer": "ipython3",
   "version": "3.7.6"
  }
 },
 "nbformat": 4,
 "nbformat_minor": 2
}
